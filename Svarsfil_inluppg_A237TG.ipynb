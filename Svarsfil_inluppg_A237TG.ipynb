{
 "cells": [
  {
   "cell_type": "code",
   "execution_count": null,
   "metadata": {},
   "outputs": [],
   "source": [
    "# Deluppgift 1\n",
    "Ev. kommentar:"
   ]
  },
  {
   "cell_type": "code",
   "execution_count": 1,
   "metadata": {},
   "outputs": [
    {
     "name": "stdout",
     "output_type": "stream",
     "text": [
      "[['MätplatsID', 'Gällande Hastighet', 'Hastighet', 'Datum', 'Tid'], ['14075010', '40', '55', '2021-09-11', '11:15:31'], ['14075010', '40', '54', '2021-09-11', '08:09:17']] \n",
      "\n",
      "[['MätplatsID', 'Namn', 'Vägnummer', 'Kommun'], ['14002010', 'Bhpl Gestadvägen', 'E45', 'Vänersborg'], ['14002020', 'Bhpl Gestadvägen', 'E45', 'Vänersborg']] \n",
      "\n"
     ]
    }
   ],
   "source": [
    "import csv\n",
    "\n",
    "#Funktionsdefinition:\n",
    "\n",
    "# Tar filadress/namn som argument och returnerar array med datan inläst med separation vid ';' tecknet\n",
    "def read_file(file_name):\n",
    "    dataRead = []\n",
    "    \n",
    "    with open(file_name, 'r', encoding='UTF-8') as file:\n",
    "            csv_reader = csv.reader(file, delimiter=';')\n",
    "            \n",
    "            for rad in csv_reader:\n",
    "                dataRead.append(rad)\n",
    "    return dataRead\n",
    "\n",
    "#Huvudprogram:\n",
    "\n",
    "# Läser in data från de båda filerna och skriver ut rad 0-2\n",
    "kameradata = read_file('kameraData.csv')\n",
    "platsdata = read_file('platsData.csv')\n",
    "print(kameradata[0:3], '\\n')\n",
    "print(platsdata[0:3], '\\n')\n",
    "\n"
   ]
  },
  {
   "cell_type": "markdown",
   "metadata": {},
   "source": [
    "## Deluppgift 2\n",
    "Ev. kommentar:"
   ]
  },
  {
   "cell_type": "code",
   "execution_count": 2,
   "metadata": {},
   "outputs": [
    {
     "name": "stdout",
     "output_type": "stream",
     "text": [
      "Det finns 69 mätningar där gällande hastighet är 40 km/h\n",
      "Det finns 96 mätningar där gällande hastighet är 50 km/h\n",
      "Det finns 204 mätningar där gällande hastighet är 60 km/h\n",
      "Det finns 389 mätningar där gällande hastighet är 70 km/h\n",
      "Det finns 471 mätningar där gällande hastighet är 80 km/h\n",
      "Det finns 94 mätningar där gällande hastighet är 90 km/h\n",
      "------------------------------------------------------------\n",
      "Totalt passerade 1323 bilar\n"
     ]
    },
    {
     "data": {
      "image/png": "[encoded data removed]",
      "text/plain": [
       "<Figure size 432x288 with 1 Axes>"
      ]
     },
     "metadata": {
      "needs_background": "light"
     },
     "output_type": "display_data"
    }
   ],
   "source": [
    "import matplotlib.pyplot as plt\n",
    "\n",
    "#Funktionsdefinition\n",
    "\n",
    "# Läser in varje element från inlästa kameradatan från pos 1 tom. sista position och inkrementerar dictonaryn 'hastigheter' för motsvarande hastighet med 1.\n",
    "# Loopar sedan igenom varje key(hastighet) och skriver ut dess value(antalet bilar)\n",
    "# Slutligen plottas värderna som ett stapeldiagram.\n",
    "def antal_bilar(kamera_data):\n",
    "    hastigheter = {}\n",
    "    bilarTotalt = 0\n",
    "    maxAntal = 0\n",
    "    \n",
    "    for i in range(1, len(kamera_data), 1):\n",
    "        if not kamera_data[i][1] in hastigheter:\n",
    "            hastigheter[kamera_data[i][1]] = 0  \n",
    "        hastigheter[kamera_data[i][1]] += 1\n",
    "        \n",
    "    for typ,antal in hastigheter.items():\n",
    "        print(f'Det finns {antal} mätningar där gällande hastighet är {typ} km/h')\n",
    "        bilarTotalt += antal\n",
    "            \n",
    "    print('-'*60)\n",
    "    print(f'Totalt passerade {bilarTotalt} bilar')\n",
    "    \n",
    "    hastighet = list(hastigheter.keys())\n",
    "    antalFordon = list(hastigheter.values())\n",
    "    plt.bar(hastighet, antalFordon, color='blue', width=0.2)\n",
    "    plt.title('Antal fordon för varje gällande hastighet')\n",
    "    plt.xlabel('Gällande hastighet')\n",
    "    plt.ylabel('Antal passerande fordon')\n",
    "    plt.grid()\n",
    "    plt.show()\n",
    "    \n",
    "#Huvudprogram:\n",
    "\n",
    "antal_bilar(kameradata)"
   ]
  },
  {
   "cell_type": "markdown",
   "metadata": {},
   "source": [
    "## Deluppgift 3\n",
    "Ev. kommentar:"
   ]
  },
  {
   "cell_type": "code",
   "execution_count": 3,
   "metadata": {},
   "outputs": [
    {
     "name": "stdout",
     "output_type": "stream",
     "text": [
      "Kommun          Antal kameror\n",
      "------------------------------\n",
      "Alingsås             7\n",
      "Bengtsfors           8\n",
      "Essunga              3\n",
      "Falköping            28\n",
      "Grästorp             7\n",
      "Gullspång            6\n",
      "Göteborg             23\n",
      "Götene               5\n",
      "Hjo                  10\n",
      "Härryda              6\n",
      "Kungälv              17\n",
      "Lerum                2\n",
      "Lidköping            6\n",
      "Lilla Edet           5\n",
      "Lysekil              10\n",
      "Mariestad            24\n",
      "Mark                 19\n",
      "Mellerud             7\n",
      "Mölndal              8\n",
      "Orust                13\n",
      "Skara                4\n",
      "Skövde               18\n",
      "Sotenäs              9\n",
      "Strömstad            6\n",
      "Svenljunga           2\n",
      "Tibro                4\n",
      "Tidaholm             6\n",
      "Tjörn                9\n",
      "Tranemo              11\n",
      "Trollhättan          11\n",
      "Töreboda             6\n",
      "Uddevalla            17\n",
      "Ulricehamn           8\n",
      "Vara                 6\n",
      "Vänersborg           12\n",
      "Vårgårda             15\n",
      "------------------------------\n",
      "Det finns totalt 358 kameror.\n"
     ]
    }
   ],
   "source": [
    "# Funktionsdefinition:\n",
    "\n",
    "# Loopar igenom all platsdata och kollar om kommunen existerar i dictonaryn 'kommuner', ifall inte så adderas kommunen och initieras till 0.\n",
    "# Sedan inkrementeras varje läsning av respektive kommun med 1 för varje kamera\n",
    "# Slutligen sorteras listan i bokstavsordning och hämtar motsvarande value(antalet kameror) och skrivs ut enligt uppgiftens format\n",
    "def antal_kameror(plats_data):\n",
    "    kommuner = {}\n",
    "    totalaKameror = 0\n",
    "    \n",
    "    for i in range(1, len(plats_data), 1):\n",
    "        if not plats_data[i][3] in kommuner:\n",
    "            kommuner[plats_data[i][3]] = 0  \n",
    "        kommuner[plats_data[i][3]] += 1\n",
    "        totalaKameror += 1\n",
    "    \n",
    "    print(f'{\"Kommun\":<15} Antal kameror')\n",
    "    print('-'*30)\n",
    "    for kommun in sorted(kommuner.keys()):\n",
    "        print(f'{kommun:<20} {kommuner.get(kommun)}')\n",
    "    print('-'*30)\n",
    "    print(f'Det finns totalt {totalaKameror} kameror.')    \n",
    "    \n",
    "    \n",
    "# Huvudprogram:\n",
    "\n",
    "antal_kameror(platsdata)"
   ]
  },
  {
   "cell_type": "markdown",
   "metadata": {},
   "source": [
    "## Deluppgift 4\n",
    "Ev. kommentar:"
   ]
  },
  {
   "cell_type": "code",
   "execution_count": 4,
   "metadata": {},
   "outputs": [
    {
     "name": "stdout",
     "output_type": "stream",
     "text": [
      "Med hur många % skall hastigheten överskrida hastighetsbegränsningen för att visas? 90\n",
      "Det var 12 överträdelser som var mer än 90% över gällande hastighet.\n",
      "\n",
      "Tid       MätplatsID       Gällande Hastighet       Hastighet       Datum\n",
      "---------------------------------------------------------------------------\n",
      "07:45:29   14039010               70                  135       2021-09-11\n",
      "12:06:26   14007040               80                  224       2021-09-11\n",
      "12:32:28   14090060               70                  159       2021-09-11\n",
      "13:19:09   14090050               70                  145       2021-09-11\n",
      "15:05:15   14048010               60                  163       2021-09-11\n",
      "15:24:40   14052030               70                  157       2021-09-11\n",
      "17:09:19   14093020               70                  140       2021-09-11\n",
      "17:12:20   14066040               70                  140       2021-09-11\n",
      "17:27:51   14093040               70                  138       2021-09-11\n",
      "17:43:19   14052010               70                  150       2021-09-11\n",
      "17:52:57   14052040               70                  170       2021-09-11\n",
      "17:54:43   14052010               70                  173       2021-09-11\n"
     ]
    },
    {
     "data": {
      "image/png": "[encoded data removed]",
      "text/plain": [
       "<Figure size 720x360 with 1 Axes>"
      ]
     },
     "metadata": {
      "needs_background": "light"
     },
     "output_type": "display_data"
    },
    {
     "name": "stdout",
     "output_type": "stream",
     "text": [
      "Hastighetsöverträdelserna skedde vid följande 12 platser.\n",
      "Tid       MätplatsID       Kommun       Vägnummer       Hastighet\n",
      "----------------------------------------------------------------------\n",
      "07:45:29   14039010       Skara             49              135\n",
      "12:06:26   14007040       Mariestad        E20              224\n",
      "12:32:28   14090060       Strömstad       1040              159\n",
      "13:19:09   14090050       Strömstad       1040              145\n",
      "15:05:15   14048010       Tjörn            169              163\n",
      "15:24:40   14052030       Göteborg         587              157\n",
      "17:09:19   14093020       Göteborg       E6.21              140\n",
      "17:12:20   14066040       Kungälv          625              140\n",
      "17:27:51   14093040       Göteborg       E6.21              138\n",
      "17:43:19   14052010       Göteborg         587              150\n",
      "17:52:57   14052040       Göteborg         587              170\n",
      "17:54:43   14052010       Göteborg         587              173\n"
     ]
    }
   ],
   "source": [
    "# Funktionsdefinition:\n",
    "\n",
    "# Läser in user input och omvandlar från heltal till bråkdel (eg. 90 -> 0.9) och sparar de hastighetsöverträdelser > än input i listan plushastighet.\n",
    "# returnerar sedan både listan sorterad efter tidigast angiven tid och den angivna procentsatsen.\n",
    "def hastighetplus(kamera_data):\n",
    "    \n",
    "    procentover = input('Med hur många % skall hastigheten överskrida hastighetsbegränsningen för att visas? ')\n",
    "    plushastighet = []\n",
    "    \n",
    "    for i in range(1, len(kamera_data), 1):\n",
    "        if (float(kamera_data[i][2])/float(kamera_data[i][1]) > (1.0 + float(procentover)/100)):\n",
    "            plushastighet.append(kameradata[i])\n",
    "    \n",
    "    plushastighet.sort(key=lambda mätning : mätning[4])  # Sorterar på tidigast tid som är element 4 i varje objekt\n",
    "    print(f'Det var {len(plushastighet)} överträdelser som var mer än {int(procentover)}% över gällande hastighet.\\n')\n",
    "    print(f'{\"Tid\":<10}{\"MätplatsID\":<17}{\"Gällande Hastighet\":<25}{\"Hastighet\":<16}{\"Datum\"}')\n",
    "    print('-'*75)\n",
    "    \n",
    "    for i in range(0, len(plushastighet), 1):\n",
    "        print(f'{plushastighet[i][4]:<11}{plushastighet[i][0]:<23}{plushastighet[i][1]:<20}{plushastighet[i][2]:<10}{plushastighet[i][3]:>5}')\n",
    "        \n",
    "    return plushastighet, int(procentover)\n",
    "\n",
    "\n",
    "# Ritar en horisontellt stackad bar-graf med den lagliga och den överskridna hastigheten i relation till tiden.\n",
    "# Går över alla objekt i listan som returnerats från funktionen hastighetplus.\n",
    "def hastighetplusdiagram(plus_hastighet, procent_over):\n",
    "    \n",
    "    tider = []\n",
    "    laglig_hastighet = []\n",
    "    överskriden_hastighet = []\n",
    "    \n",
    "    for i in range(0,len(plus_hastighet), 1):\n",
    "        tider.append(plus_hastighet[i][4])\n",
    "        laglig_hastighet.append(int(plus_hastighet[i][1]))\n",
    "        överskriden_hastighet.append(int(plus_hastighet[i][2])-int(plus_hastighet[i][1])) # Räknar ut differensen av uppmätt och laglig hastighet\n",
    "        \n",
    "    \n",
    "    plt.figure(figsize=(10,5))\n",
    "    plt.title(f'Tidpunkter där gällande hastighet överskrivs med mer än {procent_over}%')\n",
    "    plt.xlabel('Hastighet')\n",
    "    plt.ylabel('Tid')\n",
    "    bar1 = plt.barh(tider, laglig_hastighet, height=0.8, color=\"black\")\n",
    "    bar2 = plt.barh(tider, överskriden_hastighet, height=0.4, left=laglig_hastighet, color=\"green\")\n",
    "    plt.legend([bar1, bar2], [\"Gällande hastighet\", \"Hastighet\"], loc=\"upper right\")\n",
    "    plt.grid()\n",
    "    plt.show()\n",
    "\n",
    "    \n",
    "# Går över alla objekt från listan som genererats i funktionen hastighetplus och jämför dess MätplatsID med alla objekt i listan platsdata.\n",
    "# Om samma ID så adderas ett nytt objekt till ny lista utvaldaPlatser med relevant info från uppgiftbeskrivningen.\n",
    "def hastighetkommun(plus_hastighet, plats_data):\n",
    "    \n",
    "    utvaldaPlatser = []\n",
    "    \n",
    "    for i in range(0, len(plus_hastighet), 1):\n",
    "        for j in range(1, len(plats_data), 1):\n",
    "            if plats_data[j][0] == plus_hastighet[i][0]:\n",
    "                utvaldaPlatser.append([plus_hastighet[i][4], plats_data[j][0], plats_data[j][3], plats_data[j][2], plus_hastighet[i][2]])\n",
    "    \n",
    "    print(f'Hastighetsöverträdelserna skedde vid följande {len(plus_hastighet)} platser.')\n",
    "    print(f'{\"Tid\":<10}{\"MätplatsID\":<17}{\"Kommun\":<13}{\"Vägnummer\":<16}{\"Hastighet\"}')\n",
    "    print('-'*70)\n",
    "    \n",
    "    for i in range(0, len(utvaldaPlatser), 1):\n",
    "        print(f'{utvaldaPlatser[i][0]:<11}{utvaldaPlatser[i][1]:<15}{utvaldaPlatser[i][2]:<15}{utvaldaPlatser[i][3]:>5}{utvaldaPlatser[i][4]:>17}')\n",
    "\n",
    "# Huvudprogram:\n",
    "\n",
    "plusHastighet, procentOver = hastighetplus(kameradata) # Del a\n",
    "hastighetplusdiagram(plusHastighet,procentOver) # Del b\n",
    "hastighetkommun(plusHastighet, platsdata) # Del c"
   ]
  },
  {
   "cell_type": "markdown",
   "metadata": {},
   "source": [
    "## Deluppgift 5\n",
    "Ev. kommentar:"
   ]
  },
  {
   "cell_type": "code",
   "execution_count": 5,
   "metadata": {},
   "outputs": [
    {
     "data": {
      "image/png": "[encoded data removed]",
      "text/plain": [
       "<Figure size 576x648 with 1 Axes>"
      ]
     },
     "metadata": {
      "needs_background": "light"
     },
     "output_type": "display_data"
    }
   ],
   "source": [
    "import datetime as dt\n",
    "\n",
    "# Funktionsdefinition:\n",
    "\n",
    "# Sorterar alla mätningar efter tidigast tid och sen itererar igenom alla mätningar där timme och minut plockas ut och registreras \n",
    "# i dictionaryn antalBilar och motsvarande tid i listan tid. Resultatet plottas ut efter beskrivningen i uppgiften\n",
    "def bilar_timme(kamera_data):\n",
    "    \n",
    "    del(kamera_data[0])\n",
    "    kamera_data.sort(key=lambda mätning : mätning[4]) # Sortera efter tidigast tid\n",
    "    \n",
    "    aktuellTim = 0\n",
    "    aktuellMin = 0\n",
    "    antalBilar = {}\n",
    "    tid = []\n",
    "    \n",
    "    # Om inte tiden existerar i dictionaryn så initieras den och formateras efter angivelse i uppg och inkrementeras med 1 för varje mäting.\n",
    "    for i in range(0, len(kamera_data),1):\n",
    "        aktuellTim = dt.datetime.strptime(kamera_data[i][4], '%H:%M:%S').hour\n",
    "        akutellMin = dt.datetime.strptime(kamera_data[i][4], '%H:%M:%S').min\n",
    "        \n",
    "        if int(aktuellTim) > 17 or int(aktuellTim) < 7:\n",
    "            break\n",
    "        if not aktuellTim in antalBilar:\n",
    "            if aktuellTim < 10:\n",
    "                tid.append(f'0{aktuellTim}:{aktuellMin}0')\n",
    "            else:\n",
    "                tid.append(f'{aktuellTim}:{aktuellMin}0')\n",
    "            antalBilar[aktuellTim] = 0\n",
    "        antalBilar[aktuellTim] += 1\n",
    "    \n",
    "     \n",
    "    antalet = list(antalBilar.values())\n",
    "\n",
    "    plt.figure(figsize=(8,9))\n",
    "    plt.title('Antalet fordon per timma mellan kl. 07:00 och 17:00')\n",
    "    plt.xlabel('Tid')\n",
    "    plt.ylabel('Antal registrerade fordon')\n",
    "    plt.ylim(0,180)\n",
    "    plt.plot(tid, antalet)\n",
    "    plt.grid()\n",
    "    plt.show()\n",
    "\n",
    "\n",
    "# Huvudprogram:\n",
    "\n",
    "bilar_timme(kameradata)"
   ]
  },
  {
   "cell_type": "markdown",
   "metadata": {},
   "source": [
    "## Deluppgift 6\n",
    "Ev. kommentar: Utskriften i menyval 2 -> c blir fel när variabeln 'kameradatameny' används och skickas in till deluppgift 4. Används originalvariabeln 'kameradata' så returneras rätt data och grafer. Har inte kunnat identifiera orsaken till problemet så tar gärna feedback på detta. Är det möjligen något Jupyter relaterat? Min deluppgift 4 löser iaf problemet enligt beskrivning."
   ]
  },
  {
   "cell_type": "code",
   "execution_count": null,
   "metadata": {},
   "outputs": [
    {
     "name": "stdout",
     "output_type": "stream",
     "text": [
      "1. Hämta data från fil\n",
      "\n",
      "2. Analysera data\n",
      "\ta. Antal bilar\n",
      "\tb. Antal kameror\n",
      "\tc. För fort\n",
      "\td. Bilar per timme\n",
      "\n",
      "3. Avsluta\n",
      "\n",
      "Ange ditt val: 1\n",
      "Vänligen ange sökväg & namn för filen med kameradatan: \n",
      "Vänligen ange sökväg & namn för filen med platsdatan: \n",
      "[['MätplatsID', 'Gällande Hastighet', 'Hastighet', 'Datum', 'Tid'], ['14075010', '40', '55', '2021-09-11', '11:15:31'], ['14075010', '40', '54', '2021-09-11', '08:09:17']] \n",
      "\n",
      "[['MätplatsID', 'Namn', 'Vägnummer', 'Kommun'], ['14002010', 'Bhpl Gestadvägen', 'E45', 'Vänersborg'], ['14002020', 'Bhpl Gestadvägen', 'E45', 'Vänersborg']] \n",
      "\n",
      "1. Hämta data från fil\n",
      "\n",
      "2. Analysera data\n",
      "\ta. Antal bilar\n",
      "\tb. Antal kameror\n",
      "\tc. För fort\n",
      "\td. Bilar per timme\n",
      "\n",
      "3. Avsluta\n",
      "\n",
      "Ange ditt val: 2\n",
      "Ange vilket subval som önskas (a-d): a\n",
      "Det finns 69 mätningar där gällande hastighet är 40 km/h\n",
      "Det finns 96 mätningar där gällande hastighet är 50 km/h\n",
      "Det finns 204 mätningar där gällande hastighet är 60 km/h\n",
      "Det finns 389 mätningar där gällande hastighet är 70 km/h\n",
      "Det finns 471 mätningar där gällande hastighet är 80 km/h\n",
      "Det finns 94 mätningar där gällande hastighet är 90 km/h\n",
      "------------------------------------------------------------\n",
      "Totalt passerade 1323 bilar\n"
     ]
    },
    {
     "data": {
      "image/png": "[encoded data removed]",
      "text/plain": [
       "<Figure size 432x288 with 1 Axes>"
      ]
     },
     "metadata": {
      "needs_background": "light"
     },
     "output_type": "display_data"
    },
    {
     "name": "stdout",
     "output_type": "stream",
     "text": [
      "1. Hämta data från fil\n",
      "\n",
      "2. Analysera data\n",
      "\ta. Antal bilar\n",
      "\tb. Antal kameror\n",
      "\tc. För fort\n",
      "\td. Bilar per timme\n",
      "\n",
      "3. Avsluta\n",
      "\n",
      "Ange ditt val: 2\n",
      "Ange vilket subval som önskas (a-d): b\n",
      "Kommun          Antal kameror\n",
      "------------------------------\n",
      "Alingsås             7\n",
      "Bengtsfors           8\n",
      "Essunga              3\n",
      "Falköping            28\n",
      "Grästorp             7\n",
      "Gullspång            6\n",
      "Göteborg             23\n",
      "Götene               5\n",
      "Hjo                  10\n",
      "Härryda              6\n",
      "Kungälv              17\n",
      "Lerum                2\n",
      "Lidköping            6\n",
      "Lilla Edet           5\n",
      "Lysekil              10\n",
      "Mariestad            24\n",
      "Mark                 19\n",
      "Mellerud             7\n",
      "Mölndal              8\n",
      "Orust                13\n",
      "Skara                4\n",
      "Skövde               18\n",
      "Sotenäs              9\n",
      "Strömstad            6\n",
      "Svenljunga           2\n",
      "Tibro                4\n",
      "Tidaholm             6\n",
      "Tjörn                9\n",
      "Tranemo              11\n",
      "Trollhättan          11\n",
      "Töreboda             6\n",
      "Uddevalla            17\n",
      "Ulricehamn           8\n",
      "Vara                 6\n",
      "Vänersborg           12\n",
      "Vårgårda             15\n",
      "------------------------------\n",
      "Det finns totalt 358 kameror.\n",
      "1. Hämta data från fil\n",
      "\n",
      "2. Analysera data\n",
      "\ta. Antal bilar\n",
      "\tb. Antal kameror\n",
      "\tc. För fort\n",
      "\td. Bilar per timme\n",
      "\n",
      "3. Avsluta\n",
      "\n",
      "Ange ditt val: 2\n",
      "Ange vilket subval som önskas (a-d): c\n",
      "Med hur många % skall hastigheten överskrida hastighetsbegränsningen för att visas? 90\n",
      "Det var 12 överträdelser som var mer än 90% över gällande hastighet.\n",
      "\n",
      "Tid       MätplatsID       Gällande Hastighet       Hastighet       Datum\n",
      "---------------------------------------------------------------------------\n",
      "09:33:29   14031010               70                  79        2021-09-11\n",
      "11:22:49   14093020               70                  73        2021-09-11\n",
      "11:22:54   14098010               50                  61        2021-09-11\n",
      "11:22:54   14031050               70                  73        2021-09-11\n",
      "11:22:59   14007050               70                  89        2021-09-11\n",
      "11:23:44   14086020               80                  119       2021-09-11\n",
      "11:25:11   14093040               70                  75        2021-09-11\n",
      "11:25:12   14094010               70                  77        2021-09-11\n",
      "11:25:29   14009020               70                  79        2021-09-11\n",
      "11:27:06   14002050               50                  48        2021-09-11\n",
      "11:27:32   14033010               50                  48        2021-09-11\n",
      "14:04:12   14019100               80                  60        2021-09-11\n"
     ]
    },
    {
     "data": {
      "image/png": "[encoded data removed]",
      "text/plain": [
       "<Figure size 720x360 with 1 Axes>"
      ]
     },
     "metadata": {
      "needs_background": "light"
     },
     "output_type": "display_data"
    },
    {
     "name": "stdout",
     "output_type": "stream",
     "text": [
      "Hastighetsöverträdelserna skedde vid följande 12 platser.\n",
      "Tid       MätplatsID       Kommun       Vägnummer       Hastighet\n",
      "----------------------------------------------------------------------\n",
      "09:33:29   14031010       Tranemo           27               79\n",
      "11:22:49   14093020       Göteborg       E6.21               73\n",
      "11:22:54   14098010       Lilla Edet      2022               61\n",
      "11:22:54   14031050       Tranemo           27               73\n",
      "11:22:59   14007050       Mariestad        E20               89\n",
      "11:23:44   14086020       Falköping         47              119\n",
      "11:25:11   14093040       Göteborg       E6.21               75\n",
      "11:25:12   14094010       Göteborg       E6.20               77\n",
      "11:25:29   14009020       Trollhättan      E45               79\n",
      "11:27:06   14002050       Vänersborg       E45               48\n",
      "11:27:32   14033010       Mark              41               48\n",
      "14:04:12   14019100       Göteborg       E6.20               60\n",
      "1. Hämta data från fil\n",
      "\n",
      "2. Analysera data\n",
      "\ta. Antal bilar\n",
      "\tb. Antal kameror\n",
      "\tc. För fort\n",
      "\td. Bilar per timme\n",
      "\n",
      "3. Avsluta\n",
      "\n"
     ]
    }
   ],
   "source": [
    "\n",
    "\n",
    "# Huvudprogram:\n",
    "\n",
    "# While loopen körs så länge inte menyVal sätts till 3 då breakas loopen och programmet avslutas.\n",
    "menyVal = 0\n",
    "while (True):\n",
    "    \n",
    "    print('1. Hämta data från fil\\n')\n",
    "    print('2. Analysera data\\n\\ta. Antal bilar\\n\\tb. Antal kameror\\n\\tc. För fort\\n\\td. Bilar per timme\\n')\n",
    "    print('3. Avsluta\\n', flush=True)\n",
    "    \n",
    "    menyVal = int(input('Ange ditt val: '))\n",
    "    \n",
    "    if(menyVal == 1):\n",
    "        kameraFil = input('Vänligen ange sökväg & namn för filen med kameradatan: ') or 'kameraData.csv'\n",
    "        platsFil =  input('Vänligen ange sökväg & namn för filen med platsdatan: ') or 'platsData.csv'\n",
    "        kameradatameny = []\n",
    "        platsdatameny = []\n",
    "        kameradatameny = read_file(kameraFil)\n",
    "        platsdatameny = read_file(platsFil)\n",
    "        print(kameradatameny[0:3], '\\n')\n",
    "        print(platsdatameny[0:3], '\\n')\n",
    "    elif(menyVal == 2):\n",
    "        underVal = input('Ange vilket subval som önskas (a-d): ')\n",
    "        if(underVal == 'a'):\n",
    "            antal_bilar(kameradatameny)\n",
    "        elif(underVal == 'b'):\n",
    "            antal_kameror(platsdatameny)\n",
    "        elif(underVal == 'c'):\n",
    "            plushastighet = []\n",
    "            procentover = 0\n",
    "            plushastighet, procentover = hastighetplus(kameradatameny) # Del a\n",
    "            hastighetplusdiagram(plushastighet,procentover) # Del b\n",
    "            hastighetkommun(plushastighet, platsdatameny) # Del c\n",
    "        elif(underVal == 'd'):\n",
    "            bilar_timme(kameradatameny)\n",
    "    elif(menyVal == 3):\n",
    "        print('Programmet avslutas')\n",
    "        break\n",
    "\n"
   ]
  },
  {
   "cell_type": "code",
   "execution_count": null,
   "metadata": {},
   "outputs": [],
   "source": []
  }
 ],
 "metadata": {
  "kernelspec": {
   "display_name": "Python 3 (ipykernel)",
   "language": "python",
   "name": "python3"
  },
  "language_info": {
   "codemirror_mode": {
    "name": "ipython",
    "version": 3
   },
   "file_extension": ".py",
   "mimetype": "text/x-python",
   "name": "python",
   "nbconvert_exporter": "python",
   "pygments_lexer": "ipython3",
   "version": "3.9.12"
  }
 },
 "nbformat": 4,
 "nbformat_minor": 2
}
