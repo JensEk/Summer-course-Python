{
 "cells": [
  {
   "cell_type": "markdown",
   "metadata": {},
   "source": [
    "### Lösningsförslag - strängar"
   ]
  },
  {
   "cell_type": "markdown",
   "metadata": {},
   "source": [
    "1. Skriv ett program som matar in en textsträng och skriver ut denna på skärmen tillsammans med dess längd."
   ]
  },
  {
   "cell_type": "code",
   "execution_count": 2,
   "metadata": {},
   "outputs": [
    {
     "name": "stdout",
     "output_type": "stream",
     "text": [
      "Ange en sträng: Hej Python!\n",
      "Hej Python! har 11 tecken\n"
     ]
    }
   ],
   "source": [
    "#skriv källkoden här:\n",
    "string= input('Ange en sträng: ')\n",
    "print(f'{string} har {len(string)} tecken')\n",
    "#mellanslag räknas också som ett tecken!"
   ]
  },
  {
   "cell_type": "markdown",
   "metadata": {},
   "source": [
    "2. Skriv ett program som sparar vart N:e tecken i en sträng."
   ]
  },
  {
   "cell_type": "code",
   "execution_count": 3,
   "metadata": {},
   "outputs": [
    {
     "name": "stdout",
     "output_type": "stream",
     "text": [
      "Ange en sträng: 123456789\n",
      "Ange N (heltal): 2\n",
      "Vartannat tecken i 123456789 är 2468\n"
     ]
    }
   ],
   "source": [
    "#skriv källkoden här:\n",
    "string= input('Ange en sträng: ')\n",
    "tal=int(input('Ange N (heltal): '))\n",
    "print(f'Vartannat tecken i {string} är {string[tal-1:len(string)+1:tal]}')"
   ]
  },
  {
   "cell_type": "markdown",
   "metadata": {},
   "source": [
    "3. Skriv ett program som läser in en sträng, byter första och sista tecknet i strängen och skriver ut resultatet på skärmen. Exempel: Indata: 'Hejsan' --> Utdata:  'nejsaH'"
   ]
  },
  {
   "cell_type": "code",
   "execution_count": 4,
   "metadata": {},
   "outputs": [
    {
     "name": "stdout",
     "output_type": "stream",
     "text": [
      "Ange en sträng: Python är kul!\n",
      "Resultat när strängens första och sista tecken är omkastade !ython är kulP\n"
     ]
    }
   ],
   "source": [
    "#skriv källkoden här:\n",
    "string = input('Ange en sträng: ')\n",
    "first_char = string[0]\n",
    "last_char  = string[len(string)-1]\n",
    "new_string=last_char+string[1:len(string)-1]+first_char\n",
    "print(f'Resultat när strängens första och sista tecken är omkastade {new_string}')"
   ]
  },
  {
   "cell_type": "markdown",
   "metadata": {},
   "source": [
    "4. Skriv ett program som läser in en sträng, tar bort varje tecken med udda index och skriver ut resultatet på skärmen. "
   ]
  },
  {
   "cell_type": "code",
   "execution_count": 5,
   "metadata": {},
   "outputs": [
    {
     "name": "stdout",
     "output_type": "stream",
     "text": [
      "Ange en sträng: 123456789\n",
      "Ursprunglig sträng 123456789 --> Alla element med udda index borttagna: 13579\n"
     ]
    }
   ],
   "source": [
    "#skriv källkoden här:\n",
    "string = input('Ange en sträng: ')\n",
    "new_str=string[0:len(string):2]\n",
    "print(f'Ursprunglig sträng {string} --> Alla element med udda index borttagna: {new_str}')\n",
    "#här är talet 0 definierat som jämnt"
   ]
  },
  {
   "cell_type": "markdown",
   "metadata": {},
   "source": [
    "5. Skriv ett program som räknar förekomsten av varje ord i en inmatad mening. \n"
   ]
  },
  {
   "cell_type": "code",
   "execution_count": 10,
   "metadata": {},
   "outputs": [
    {
     "name": "stdout",
     "output_type": "stream",
     "text": [
      "Skriv en mening: Adam Bertil Ceasar 1 2 3\n",
      "Antal ord i \"Adam Bertil Ceasar 1 2 3\" är 6 st.\n"
     ]
    }
   ],
   "source": [
    "#skriv källkoden här:\n",
    "string = input('Skriv en mening: ')\n",
    "list_word = string.split() #gör om string till en lista där varje element är ett ord ur 'string'\n",
    "print(f'Antal ord i \"{string}\" är {len(list_word)} st.')"
   ]
  },
  {
   "cell_type": "markdown",
   "metadata": {},
   "source": [
    "6. Skriv ett program som matar in en mening och skriver ut denna baklänges."
   ]
  },
  {
   "cell_type": "code",
   "execution_count": 11,
   "metadata": {},
   "outputs": [
    {
     "name": "stdout",
     "output_type": "stream",
     "text": [
      "Skriv en mening: Skriv denna mening baklänges\n",
      "segnälkab gninem anned virkS\n"
     ]
    }
   ],
   "source": [
    "#skriv källkoden här:\n",
    "string = input('Skriv en mening: ')\n",
    "char=''\n",
    "for i in range(0,len(string)):\n",
    "    char=char+string[len(string)-1-i]\n",
    "print(char)\n"
   ]
  },
  {
   "cell_type": "markdown",
   "metadata": {},
   "source": [
    "7. Skriv ett program som konverterar alla tecken i en inmatad sträng till versaler."
   ]
  },
  {
   "cell_type": "code",
   "execution_count": 12,
   "metadata": {},
   "outputs": [
    {
     "name": "stdout",
     "output_type": "stream",
     "text": [
      "Skriv en mening: skriv meningen i versaler\n",
      "Lösningsförslag 1: SKRIV MENINGEN I VERSALER\n",
      "Lösningsförslag 2: SKRIV MENINGEN I VERSALER\n"
     ]
    }
   ],
   "source": [
    "#skriv källkoden här:\n",
    "string = input('Skriv en mening: ')\n",
    "char=''\n",
    "\n",
    "#lösningsförslag 1:\n",
    "for i in range(0,len(string)):\n",
    "    if string[i].islower():\n",
    "        char=char+string[i].upper()\n",
    "    else:\n",
    "        char=char+string[i]\n",
    "print(f'Lösningsförslag 1: {char}')\n",
    "\n",
    "#lösningsförslag 2 (betydligt enklare..):\n",
    "print(f'Lösningsförslag 2: {string.upper()}')\n",
    "\n"
   ]
  },
  {
   "cell_type": "markdown",
   "metadata": {},
   "source": [
    "8. Skriv ett program som matar in ett antal ord och skriver ut dessa i bokstavsordning."
   ]
  },
  {
   "cell_type": "code",
   "execution_count": 13,
   "metadata": {},
   "outputs": [
    {
     "name": "stdout",
     "output_type": "stream",
     "text": [
      "Skriv en ett antal ord: Skriv ut dessa ord i bokstavsordning\n",
      " Skriv bokstavsordning dessa i ord ut\n"
     ]
    }
   ],
   "source": [
    "#skriv källkoden här:\n",
    "string = input('Skriv en ett antal ord: ')\n",
    "list_word=string.split()\n",
    "list_word.sort()\n",
    "char=''\n",
    "for i in range(len(list_word)):\n",
    "    char=char+' '+list_word[i]\n",
    "print(char)\n",
    "\n",
    "#observera att sort()-funktionen sorterar efter ASCII-tabellen. T ex stora bokstäver kommer före små bokstäver i \n",
    "#ASCI-tabellen och kommer därför att sorteras före motsvarande små bokstäver."
   ]
  },
  {
   "cell_type": "markdown",
   "metadata": {},
   "source": [
    "9. Skriv ett program som kontrollerar om ett inmatat ord börjar med ett specifikt tecken och i så fall byter ut detta tecken mot ett annat inmatat tecken."
   ]
  },
  {
   "cell_type": "code",
   "execution_count": 14,
   "metadata": {},
   "outputs": [
    {
     "name": "stdout",
     "output_type": "stream",
     "text": [
      "Skriv ett ord: Test\n",
      "Skriv ett tecken 1: T\n",
      "Skriv ett tecken 2: W\n",
      "West\n"
     ]
    }
   ],
   "source": [
    "#skriv källkoden här:\n",
    "string_1 = input('Skriv ett ord: ')\n",
    "string_2 = input('Skriv ett tecken 1: ')\n",
    "string_3 = input('Skriv ett tecken 2: ')\n",
    "char=''\n",
    "if string_1[0]== string_2:\n",
    "    print(string_3+string_1[1:])\n",
    "else:\n",
    "    print('Ingen årgärd!')"
   ]
  },
  {
   "cell_type": "markdown",
   "metadata": {},
   "source": [
    "10. Skriv ett program som matar in ett decimaltal som har punkt (.) som decimaltecken och skriver ut talet på skärmen med ett kommatecken (,) som decimaltecken."
   ]
  },
  {
   "cell_type": "code",
   "execution_count": 16,
   "metadata": {},
   "outputs": [
    {
     "name": "stdout",
     "output_type": "stream",
     "text": [
      "Skriv in ett decimaltal med punkt som decimaltecken: 123.45\n",
      "123,45\n"
     ]
    }
   ],
   "source": [
    "#skriv källkoden här:\n",
    "string = input('Skriv in ett decimaltal med punkt som decimaltecken: ')\n",
    "char='' \n",
    "for i in range(len(string)):\n",
    "    if string[i] == '.':\n",
    "        char=char+','\n",
    "    else:\n",
    "        char=char+string[i]\n",
    "print(char)\n",
    "    \n"
   ]
  },
  {
   "cell_type": "markdown",
   "metadata": {},
   "source": [
    "11. Skriv ett program som matar in en textmening och listar vokalerna och deras antal."
   ]
  },
  {
   "cell_type": "code",
   "execution_count": 17,
   "metadata": {},
   "outputs": [
    {
     "name": "stdout",
     "output_type": "stream",
     "text": [
      "Mata in en mening: Adam Bertil Ceasar David Erik\n",
      "vokal    förekomst (antal tecken)\n",
      "a        4\n",
      "e        2\n",
      "i        3\n",
      "o        0\n",
      "u        0\n",
      "y        0\n",
      "å        0\n",
      "ä        0\n"
     ]
    }
   ],
   "source": [
    "#skriv källkoden här:\n",
    "\n",
    "string = input('Mata in en mening: ')\n",
    "#vokaler: a, e, i, o, u, y, å, ä och ö\n",
    "string.lower()                  #stora bokstäver byts ut mot små\n",
    "\n",
    "vokal_list=[['a',0], ['e',0], ['i',0], ['o',0], ['u',0], ['y',0], ['å',0], ['ä',0], ['ö',0]]\n",
    "for i in range(len(string)):    \n",
    "    if string[i] ==   'a':      #testa om tecknet är en vokal och i så fall räkna upp antalet\n",
    "        vokal_list[0][1] +=1\n",
    "    elif string[i] == 'e':  \n",
    "        vokal_list[1][1] +=1\n",
    "    elif string[i] == 'i':  \n",
    "        vokal_list[2][1] +=1\n",
    "    elif string[i] == 'o':  \n",
    "        vokal_list[3][1] +=1\n",
    "    elif string[i] == 'u':  \n",
    "        vokal_list[4][1] +=1\n",
    "    elif string[i] == 'y':  \n",
    "        vokal_list[5][1] +=1\n",
    "    elif string[i] == 'å':  \n",
    "        vokal_list[6][1] +=1\n",
    "    elif string[i] == 'ä':  \n",
    "        vokal_list[7][1] +=1\n",
    "    elif string[i] == 'ö':  \n",
    "        vokal_list[8][1] +=1\n",
    "\n",
    "print('vokal    förekomst (antal tecken)')\n",
    "for i in range(8):\n",
    "    print(vokal_list[i][0],'      ', vokal_list[i][1])\n",
    "\n",
    "\n"
   ]
  },
  {
   "cell_type": "markdown",
   "metadata": {},
   "source": [
    "12. Skriv ett program som matar in en textmening, tar bort alla mellanslag och skriver ut resultatet på skärmen."
   ]
  },
  {
   "cell_type": "code",
   "execution_count": 18,
   "metadata": {},
   "outputs": [
    {
     "name": "stdout",
     "output_type": "stream",
     "text": [
      "Mata in en mening: Mata in en mening\n",
      "Matainenmening\n"
     ]
    }
   ],
   "source": [
    "#skriv källkoden här:\n",
    "string = input('Mata in en mening: ')\n",
    "new_string = string.replace(' ','')\n",
    "print(new_string)"
   ]
  },
  {
   "cell_type": "markdown",
   "metadata": {},
   "source": [
    "13. Skriv ett program som matar in en textmening och skriver ut denna på skärm fast där första tecknet i varje ord är en versal.\n"
   ]
  },
  {
   "cell_type": "code",
   "execution_count": 19,
   "metadata": {},
   "outputs": [
    {
     "name": "stdout",
     "output_type": "stream",
     "text": [
      "Mata in en mening: första tecknet i varje ord är en versal\n",
      "Första Tecknet I Varje Ord Är En Versal \n"
     ]
    }
   ],
   "source": [
    "#skriv källkoden här:\n",
    "string = input('Mata in en mening: ')\n",
    "string_list = string.split()\n",
    "new_str_list=''\n",
    "for i in range(len(string_list)):\n",
    "    char = string_list[i][0].upper()+string_list[i][1:]+' '\n",
    "    new_str_list = new_str_list + char\n",
    "\n",
    "print(new_str_list)"
   ]
  },
  {
   "cell_type": "markdown",
   "metadata": {},
   "source": [
    "14. Skriv ett program som matar in en textmening och skriver ut på skärmen hur många tecken det längsta och kortaste ordet består av."
   ]
  },
  {
   "cell_type": "code",
   "execution_count": 20,
   "metadata": {},
   "outputs": [
    {
     "name": "stdout",
     "output_type": "stream",
     "text": [
      "Mata in en mening: Skriv ett program som matar in en textmening\n",
      "Kortaste ordet har 2 tecken.\n",
      "Längsta ordet har 10 tecken.\n"
     ]
    }
   ],
   "source": [
    "#skriv källkoden här:\n",
    "string = input('Mata in en mening: ')\n",
    "string_list = string.split()\n",
    "ant_char_min = 20             #programmet förutsätter att ett ord är max 20 tecken\n",
    "ant_char_max = 0\n",
    "for i in range(len(string_list)):\n",
    "    if len(string_list[i]) > ant_char_max:\n",
    "        ant_char_max=len(string_list[i])\n",
    "    if len(string_list[i]) < ant_char_min:\n",
    "        ant_char_min=len(string_list[i])\n",
    "print(f'Kortaste ordet har {ant_char_min} tecken.')\n",
    "print(f'Längsta ordet har {ant_char_max} tecken.')"
   ]
  },
  {
   "cell_type": "markdown",
   "metadata": {},
   "source": [
    "15. Skriv ett program som matar in en textmening, gör om meningen så att den bara har små bokstäver, därefter splittrar upp meningen i sina ord och skriver ut orden i bokstavsordning."
   ]
  },
  {
   "cell_type": "code",
   "execution_count": 28,
   "metadata": {},
   "outputs": [
    {
     "name": "stdout",
     "output_type": "stream",
     "text": [
      "Mata in en mening: Skriv ett program som matar in en textmening\n",
      "Ursprunglig mening uppslittrad i sina ord: ['Skriv', 'ett', 'program', 'som', 'matar', 'in', 'en', 'textmening']\n",
      "Alla ord har små bokstäver och är sorterade i bokstavsordning: ['en', 'ett', 'in', 'matar', 'program', 'skriv', 'som', 'textmening']\n"
     ]
    }
   ],
   "source": [
    "#skriv källkoden här:\n",
    "string = input('Mata in en mening: ')\n",
    "string_list = string.split()\n",
    "new_list=[]\n",
    "for i in range(len(string_list)):\n",
    "    new_list.append(string_list[i].lower())\n",
    "    new_list.sort()\n",
    "print(f'Ursprunglig mening uppslittrad i sina ord: {string_list}')\n",
    "print(f'Alla ord har små bokstäver och är sorterade i bokstavsordning: {new_list}')\n",
    "\n"
   ]
  }
 ],
 "metadata": {
  "kernelspec": {
   "display_name": "Python 3",
   "language": "python",
   "name": "python3"
  },
  "language_info": {
   "codemirror_mode": {
    "name": "ipython",
    "version": 3
   },
   "file_extension": ".py",
   "mimetype": "text/x-python",
   "name": "python",
   "nbconvert_exporter": "python",
   "pygments_lexer": "ipython3",
   "version": "3.7.6"
  }
 },
 "nbformat": 4,
 "nbformat_minor": 2
}
