{
 "cells": [
  {
   "cell_type": "markdown",
   "metadata": {},
   "source": [
    "### Exempel - matematik"
   ]
  },
  {
   "cell_type": "markdown",
   "metadata": {},
   "source": [
    "1. Skriv ett program som kan konvertera grader till radianer och radianer till grader. Vid konvertering från grader till radianer anger man t ex 90G (90 grader) som ger resultatet PI/2. På motsvarande sätt anges R för radianer t ex 3.14R ger resultatet 180 osv. "
   ]
  },
  {
   "cell_type": "code",
   "execution_count": 1,
   "metadata": {},
   "outputs": [
    {
     "name": "stdout",
     "output_type": "stream",
     "text": [
      "Ange grader eller radianer (avsluta med G om inmatat värde är grader, R för radianer): 180G\n",
      "\n",
      "\n",
      "--> 180.0 grader motsvarar 3.142 radianer\n"
     ]
    }
   ],
   "source": [
    "#skriv källkoden här:\n",
    "\n",
    "#360 grader motsvara 2*PI radianer\n",
    "\n",
    "import math\n",
    "PI=math.pi\n",
    "string = input('Ange grader eller radianer (avsluta med G om inmatat värde är grader, R för radianer): ')\n",
    "print('\\n')\n",
    "string_len= len(string)\n",
    "if string[string_len-1] == 'G':\n",
    "    gradtal = float(string[:string_len-1])\n",
    "    print(f'--> {gradtal} grader motsvarar {gradtal*PI/180:3.3f} radianer')\n",
    "else:\n",
    "    radianer = float(string[:string_len-1])\n",
    "    print(f'--> {radianer} radianer motsvarar {radianer*180/PI:2.2f} grader')"
   ]
  },
  {
   "cell_type": "markdown",
   "metadata": {},
   "source": [
    "2. Skriv ett program som beräknar omkretsen och arean hos en cirkel. Indata till programmet ska vara cirkelns diameter."
   ]
  },
  {
   "cell_type": "code",
   "execution_count": 2,
   "metadata": {},
   "outputs": [
    {
     "name": "stdout",
     "output_type": "stream",
     "text": [
      "Ange cirkelns diameter: 10\n",
      "Cirkelns omkrets är 31.42 och arean är 78.54\n"
     ]
    }
   ],
   "source": [
    "#skriv källkoden här:\n",
    "import math\n",
    "PI=math.pi\n",
    "D = float(input('Ange cirkelns diameter: '))\n",
    "print(f'Cirkelns omkrets är {PI*D:2.2f} och arean är {PI*(D/2)*(D/2):2.2f}')\n"
   ]
  },
  {
   "cell_type": "markdown",
   "metadata": {},
   "source": [
    "3. Skriv ett program som beräknar båglängden hos en cirkel. Indata ska vara cirkelns radie och mittpunktsvinkeln i grader."
   ]
  },
  {
   "cell_type": "code",
   "execution_count": 4,
   "metadata": {},
   "outputs": [
    {
     "name": "stdout",
     "output_type": "stream",
     "text": [
      "Ange cirkelns radie: 5\n",
      "Ange mittpunktsvinkel (grader): 90\n",
      "Båglängden hos en cirkel med radien 5.0 och mittpunktsvinkeln 90.0 är 7.85\n"
     ]
    }
   ],
   "source": [
    "#skriv källkoden här:\n",
    "import math\n",
    "PI=math.pi\n",
    "R = float(input('Ange cirkelns radie: '))\n",
    "V = float(input('Ange mittpunktsvinkel (grader): '))\n",
    "\n",
    "print(f'Båglängden hos en cirkel med radien {R} och mittpunktsvinkeln {V} är {V/360*2*PI*R:2.2f}')\n"
   ]
  },
  {
   "cell_type": "markdown",
   "metadata": {},
   "source": [
    "4. Skriv ett program som beräknar arean av en sektor. Indata ska vara cirkeln radie och sektorns mittpunktsvinkel (grader)."
   ]
  },
  {
   "cell_type": "code",
   "execution_count": 5,
   "metadata": {},
   "outputs": [
    {
     "name": "stdout",
     "output_type": "stream",
     "text": [
      "Ange cirkelns radie: 5\n",
      "Ange mittpunktsvinkel (grader): 90\n",
      "Båglängden hos en cirkel med radien 5.0 och mittpunktsvinkeln 90.0 är 19.63\n"
     ]
    }
   ],
   "source": [
    "#skriv källkoden här:\n",
    "import math\n",
    "PI=math.pi\n",
    "R = float(input('Ange cirkelns radie: '))\n",
    "V = float(input('Ange mittpunktsvinkel (grader): '))\n",
    "\n",
    "print(f'Båglängden hos en cirkel med radien {R} och mittpunktsvinkeln {V} är {V/360*PI*R*R:2.2f}')\n"
   ]
  },
  {
   "cell_type": "markdown",
   "metadata": {},
   "source": [
    "5. Skriv ett program som beräknar arean av parallellogram. Indata till programmet ska vara parallellogramets bas (b) och höjd (d)."
   ]
  },
  {
   "cell_type": "code",
   "execution_count": 6,
   "metadata": {},
   "outputs": [
    {
     "name": "stdout",
     "output_type": "stream",
     "text": [
      "Ange parallellogramets bas: 10\n",
      "Ange parallellogramets höjd: 10\n",
      "Parallellogramets area är 50.00 om dess bas är 10.0 och höjd är 10.0.\n"
     ]
    }
   ],
   "source": [
    "#skriv källkoden här:\n",
    "import math\n",
    "PI=math.pi\n",
    "B = float(input('Ange parallellogramets bas: '))\n",
    "H = float(input('Ange parallellogramets höjd: '))\n",
    "\n",
    "print(f'Parallellogramets area är {B*H:2.2f} om dess bas är {B} och höjd är {H}.')\n"
   ]
  },
  {
   "cell_type": "markdown",
   "metadata": {},
   "source": [
    "6. Skriv ett program som beräknar arean och volymen hos en cylinder. Indata ska vara cylinderns diameter och höjd."
   ]
  },
  {
   "cell_type": "code",
   "execution_count": 8,
   "metadata": {},
   "outputs": [
    {
     "name": "stdout",
     "output_type": "stream",
     "text": [
      "Ange cylinderns diameter: 10\n",
      "Ange cylinderns höjd: 30\n",
      "Cylinderns area är 1099.56 och dess volym är 785.40 om dess diameter är 10.0 och dess höjd är 30.0.\n"
     ]
    }
   ],
   "source": [
    "#skriv källkoden här:\n",
    "import math\n",
    "PI=math.pi\n",
    "D = float(input('Ange cylinderns diameter: '))\n",
    "H = float(input('Ange cylinderns höjd: '))\n",
    "\n",
    "print(f'Cylinderns area är {2*(D/2*D/2*PI)+D*PI*H:2.2f} och dess volym är {(D/2*D/2*PI)*H:2.2f} om dess diameter är {D} och dess höjd är {H}.')\n"
   ]
  },
  {
   "cell_type": "markdown",
   "metadata": {},
   "source": [
    "7. Skriv ett program som multiplicerar två heltal utan att använda multiplikationsoperatorn *."
   ]
  },
  {
   "cell_type": "code",
   "execution_count": 11,
   "metadata": {},
   "outputs": [
    {
     "name": "stdout",
     "output_type": "stream",
     "text": [
      "Ange tal 1: 8\n",
      "Ange tal 2: 9\n",
      "8 * 9 = 72\n"
     ]
    }
   ],
   "source": [
    "#skriv källkoden här:\n",
    "import math\n",
    "tal_1 = int(input('Ange tal 1: '))\n",
    "tal_2 = int(input('Ange tal 2: '))\n",
    "\n",
    "result=0\n",
    "for i in range(tal_1):\n",
    "    result += tal_2\n",
    "    \n",
    "print(f'{tal_1} * {tal_2} = {result}')    \n"
   ]
  },
  {
   "cell_type": "markdown",
   "metadata": {},
   "source": [
    "8. Skriv ett program som räknar ut den längsta sträckan som förekommer mellan två hörn i ett rätblock. Indata till programmet ska vara rätblockets sidor (dvs längd, bredd och höjd)."
   ]
  },
  {
   "cell_type": "code",
   "execution_count": 2,
   "metadata": {},
   "outputs": [
    {
     "name": "stdout",
     "output_type": "stream",
     "text": [
      "Ange längd: 2\n",
      "Ange bredd: 3\n",
      "Ange höjd: 4\n",
      "Längsta sträckan mellan två hörn i ett rätblocket med längden 2.0, bredden 3.0 och höjden 4 är 5.4.\n"
     ]
    }
   ],
   "source": [
    "#skriv källkoden här:\n",
    "import math\n",
    "L = int(input('Ange längd: '))\n",
    "B = int(input('Ange bredd: '))\n",
    "H = int(input('Ange höjd: '))\n",
    "\n",
    "#längden på bottendiagonal:\n",
    "D = math.sqrt(L*L+B*B)\n",
    "\n",
    "#längsta sträckan:\n",
    "L_S = math.sqrt(D*D + H*H)\n",
    "\n",
    "print(f'Längsta sträckan mellan två hörn i ett rätblocket med längden {L:2.1f}, bredden {B:2.1f} och höjden {H}\\\n",
    " är {L_S:2.1f}.')\n"
   ]
  },
  {
   "cell_type": "markdown",
   "metadata": {},
   "source": [
    "9. Skriv ett program som kastar tärning och beräknar den relativa förekomsten (dvs frekevensen) för utfallen 1-6. Indata är antalet tärningskast N. Använd modulen random."
   ]
  },
  {
   "cell_type": "code",
   "execution_count": 14,
   "metadata": {},
   "outputs": [
    {
     "name": "stdout",
     "output_type": "stream",
     "text": [
      "Ange antal kast: 1000000\n",
      "1  16.67 %\n",
      "2  16.58 %\n",
      "3  16.69 %\n",
      "4  16.62 %\n",
      "5  16.69 %\n",
      "6  16.75 %\n"
     ]
    }
   ],
   "source": [
    "# skriv källkoden här:\n",
    "import math\n",
    "import random\n",
    "N = int(input('Ange antal kast: '))\n",
    "resultat = [0, 0, 0, 0, 0, 0]    #--> 1 läggs i resultat[0], 2-->resultat[1] ... 6-->resultat[5]\n",
    "for i in range(N):\n",
    "    kast = random.randint(1,6)\n",
    "    kast=kast-1\n",
    "    resultat[kast] += 1\n",
    "\n",
    "for i in range(len(resultat)):\n",
    "    print(f'{i+1}  {resultat[i]/N*100:2.2f} %')\n"
   ]
  },
  {
   "cell_type": "markdown",
   "metadata": {},
   "source": [
    "10. Skriv ett program som beräknar medelvärde och standardavvikelse hos en numerisk lista."
   ]
  },
  {
   "cell_type": "code",
   "execution_count": 1,
   "metadata": {},
   "outputs": [
    {
     "name": "stdout",
     "output_type": "stream",
     "text": [
      "Lösningsförslag 1: Medelvärde: 2.75  --  Standardavvikelse: 1.42\n",
      "Lösningsförslag 2: Medelvärde: 2.75  --  Standardavvikelse: 1.42\n"
     ]
    }
   ],
   "source": [
    "#skriv källkoden här:\n",
    "import math\n",
    "import statistics\n",
    "\n",
    "lista = [1.1, 2.2, 3.3, 4.4]\n",
    "\n",
    "#lösningsalternativ 1 -- med egen källkod\n",
    "#medelvärde:\n",
    "m=0\n",
    "for tal in lista:\n",
    "    m+=tal\n",
    "m=m/len(lista)  \n",
    "\n",
    "#standardavvikelse:\n",
    "s=0\n",
    "for tal in lista:\n",
    "    s += (tal-m)*(tal-m)\n",
    "s =math.sqrt(s/(len(lista)-1))\n",
    "\n",
    "print(f'Lösningsförslag 1: Medelvärde: {m:2.2f}  --  Standardavvikelse: {s:2.2f}')\n",
    "\n",
    "#lösningsalternativ 2 -- använd färdiga funktioner i modulen statistics\n",
    "m2=statistics.mean(lista)\n",
    "s2=statistics.stdev(lista)\n",
    "print(f'Lösningsförslag 2: Medelvärde: {m2:2.2f}  --  Standardavvikelse: {s2:2.2f}')"
   ]
  },
  {
   "cell_type": "markdown",
   "metadata": {},
   "source": [
    "11. Skriv ett program som beräknar behållningen på ett bankkonto efter N år om man år 0 sätter in summan M. Räntesatsen per år är R %."
   ]
  },
  {
   "cell_type": "code",
   "execution_count": null,
   "metadata": {},
   "outputs": [],
   "source": [
    "#skriv källkoden här:\n",
    "import math\n",
    "M = float(input('Ange beloppet som sätts in år 0: '))\n",
    "N = int(input('Ange antal år beräkningen ska baseras på: '))\n",
    "R = float(input('Räntesats (%): '))\n",
    "result=M\n",
    "for i in range(N):\n",
    "    result*=(1+R/100)\n",
    "\n",
    "print(f'Efter {N} år är behållningen {result:2.2f} kr med en rätesats på {R:2.2f} % och med {M:2.2f} kr på kontot år 0')\n",
    "\n"
   ]
  }
 ],
 "metadata": {
  "kernelspec": {
   "display_name": "Python 3",
   "language": "python",
   "name": "python3"
  },
  "language_info": {
   "codemirror_mode": {
    "name": "ipython",
    "version": 3
   },
   "file_extension": ".py",
   "mimetype": "text/x-python",
   "name": "python",
   "nbconvert_exporter": "python",
   "pygments_lexer": "ipython3",
   "version": "3.7.4"
  }
 },
 "nbformat": 4,
 "nbformat_minor": 2
}
